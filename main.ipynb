{
 "cells": [
  {
   "cell_type": "code",
   "execution_count": 9,
   "metadata": {},
   "outputs": [],
   "source": [
    "import csv\n",
    "import numpy as np\n",
    "\n",
    "file_path = 'files/feature_table.csv'\n",
    "data = []\n",
    "with open(file_path, newline='') as csvfile:\n",
    "    csv_reader = csv.reader(csvfile)\n",
    "    for row in csv_reader:\n",
    "        del row[0]\n",
    "        data.append(row)\n",
    "del data[0]\n",
    "for row in data:\n",
    "   del row[0]\n",
    "\n",
    "for i in range(len(data)):\n",
    "    for j in range(len(data[i])):\n",
    "        if float(data[i][j]) > 0:\n",
    "            data[i][j] = 1\n",
    "        else:\n",
    "            data[i][j] = 0\n",
    "\n",
    "matrix_size = len(data)\n",
    "mat = np.array(data)\n",
    "matriz_adj = np.zeros((matrix_size, matrix_size)) #criando a matriz de adjacência com zeros\n",
    "\n",
    "for i in range(len(data)):\n",
    "    for j in range(i + 1, len(data)):\n",
    "        # Verificando se duas bactérias estão presentes em mais de três pacientes\n",
    "        if np.sum(mat[i] & mat[j]) >= 3:\n",
    "            matriz_adj[i][j] = 1\n",
    "            matriz_adj[j][i] = 1\n",
    "#matriz_original = [[0, 0, 1], [1, 0, 1], [1, 0, 0], [1, 1, 1], [1, 1, 0]]\n",
    "\n",
    "\n",
    "\n",
    "\n",
    "\n",
    "N = {\n",
    "    i: set(num for num, j in enumerate(row) if j)\n",
    "    for i, row in enumerate(matriz_adj)\n",
    "}\n",
    "\n",
    "def BronKerbosch1(P, R=None, X=None):\n",
    "    P = set(P) # 1\n",
    "    R = set() if R is None else R # 1\n",
    "    X = set() if X is None else X # 1\n",
    "    if not P and not X: # 1\n",
    "        yield R # 1\n",
    "    while P:\n",
    "        v = P.pop() # 1\n",
    "        yield from BronKerbosch1(\n",
    "            P=P.intersection(N[v]), R=R.union([v]), X=X.intersection(N[v])) # 3^n\n",
    "        X.add(v) # 1\n",
    "\n",
    "P = N.keys()\n",
    "print(list(BronKerbosch1(P)))\n"
   ]
  },
  {
   "cell_type": "code",
   "execution_count": 4,
   "metadata": {},
   "outputs": [
    {
     "name": "stdout",
     "output_type": "stream",
     "text": [
      "Matriz de Adjacência:\n",
      "[[0 0 0 0]\n",
      " [0 0 0 0]\n",
      " [0 0 0 1]\n",
      " [0 0 1 0]]\n"
     ]
    }
   ],
   "source": [
    "import numpy as np\n",
    "\n",
    "# Tabela de presença das bactérias nos pacientes\n",
    "bacteria_table = np.array([\n",
    "    [1, 0, 1, 1, 0],\n",
    "    [1, 1, 0, 1, 0],\n",
    "    [0, 1, 1, 0, 1],\n",
    "    [0, 1, 1, 0, 1]\n",
    "])\n",
    "\n",
    "# Inicializando a matriz de adjacência com zeros\n",
    "adjacency_matrix = np.zeros((4, 4), dtype=int)\n",
    "\n",
    "# Criando a matriz de adjacência com base na condição\n",
    "for i in range(4):\n",
    "    for j in range(i + 1, 4):\n",
    "        # Verificando se duas bactérias estão presentes em mais de três pacientes\n",
    "        if np.sum(bacteria_table[i] & bacteria_table[j]) >= 3:\n",
    "            adjacency_matrix[i, j] = 1\n",
    "            adjacency_matrix[j, i] = 1\n",
    "\n",
    "print(\"Matriz de Adjacência:\")\n",
    "print(adjacency_matrix)\n"
   ]
  }
 ],
 "metadata": {
  "kernelspec": {
   "display_name": "Python 3",
   "language": "python",
   "name": "python3"
  },
  "language_info": {
   "codemirror_mode": {
    "name": "ipython",
    "version": 3
   },
   "file_extension": ".py",
   "mimetype": "text/x-python",
   "name": "python",
   "nbconvert_exporter": "python",
   "pygments_lexer": "ipython3",
   "version": "3.11.6"
  }
 },
 "nbformat": 4,
 "nbformat_minor": 2
}
